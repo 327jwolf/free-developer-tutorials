{
 "cells": [
  {
   "cell_type": "markdown",
   "metadata": {},
   "source": [
    "## FIFA19 - Playing with dataset (Part 2)\n",
    "Link to dataset: https://www.kaggle.com/karangadiya/fifa19"
   ]
  },
  {
   "cell_type": "code",
   "execution_count": 1,
   "metadata": {},
   "outputs": [],
   "source": [
    "import pandas as pd\n",
    "import matplotlib.pyplot as plt"
   ]
  },
  {
   "cell_type": "code",
   "execution_count": 2,
   "metadata": {},
   "outputs": [
    {
     "data": {
      "text/html": [
       "<div>\n",
       "<style scoped>\n",
       "    .dataframe tbody tr th:only-of-type {\n",
       "        vertical-align: middle;\n",
       "    }\n",
       "\n",
       "    .dataframe tbody tr th {\n",
       "        vertical-align: top;\n",
       "    }\n",
       "\n",
       "    .dataframe thead th {\n",
       "        text-align: right;\n",
       "    }\n",
       "</style>\n",
       "<table border=\"1\" class=\"dataframe\">\n",
       "  <thead>\n",
       "    <tr style=\"text-align: right;\">\n",
       "      <th></th>\n",
       "      <th>ID_count</th>\n",
       "      <th>Age_mean</th>\n",
       "      <th>Age_max</th>\n",
       "      <th>Age_min</th>\n",
       "    </tr>\n",
       "    <tr>\n",
       "      <th>Nationality</th>\n",
       "      <th></th>\n",
       "      <th></th>\n",
       "      <th></th>\n",
       "      <th></th>\n",
       "    </tr>\n",
       "  </thead>\n",
       "  <tbody>\n",
       "    <tr>\n",
       "      <th>Afghanistan</th>\n",
       "      <td>4</td>\n",
       "      <td>22.500000</td>\n",
       "      <td>26</td>\n",
       "      <td>20</td>\n",
       "    </tr>\n",
       "    <tr>\n",
       "      <th>Albania</th>\n",
       "      <td>40</td>\n",
       "      <td>24.025000</td>\n",
       "      <td>34</td>\n",
       "      <td>18</td>\n",
       "    </tr>\n",
       "    <tr>\n",
       "      <th>Algeria</th>\n",
       "      <td>60</td>\n",
       "      <td>27.050000</td>\n",
       "      <td>35</td>\n",
       "      <td>19</td>\n",
       "    </tr>\n",
       "    <tr>\n",
       "      <th>Andorra</th>\n",
       "      <td>1</td>\n",
       "      <td>28.000000</td>\n",
       "      <td>28</td>\n",
       "      <td>28</td>\n",
       "    </tr>\n",
       "    <tr>\n",
       "      <th>Angola</th>\n",
       "      <td>15</td>\n",
       "      <td>25.866667</td>\n",
       "      <td>34</td>\n",
       "      <td>19</td>\n",
       "    </tr>\n",
       "  </tbody>\n",
       "</table>\n",
       "</div>"
      ],
      "text/plain": [
       "             ID_count   Age_mean  Age_max  Age_min\n",
       "Nationality                                       \n",
       "Afghanistan         4  22.500000       26       20\n",
       "Albania            40  24.025000       34       18\n",
       "Algeria            60  27.050000       35       19\n",
       "Andorra             1  28.000000       28       28\n",
       "Angola             15  25.866667       34       19"
      ]
     },
     "execution_count": 2,
     "metadata": {},
     "output_type": "execute_result"
    }
   ],
   "source": [
    "df = pd.read_csv('../data.csv')\n",
    "\n",
    "df_group = df[['Nationality', 'ID', 'Age']].groupby('Nationality').agg({\n",
    "    'ID': ['count'],\n",
    "    'Age': ['mean', 'max', 'min']\n",
    "})\n",
    "\n",
    "df_group.columns = ['_'.join(col) for col in df_group.columns.values]\n",
    "\n",
    "df_group.head()"
   ]
  },
  {
   "cell_type": "code",
   "execution_count": 3,
   "metadata": {},
   "outputs": [
    {
     "data": {
      "text/plain": [
       "Nationality\n",
       "England        1662\n",
       "Germany        1198\n",
       "Spain          1072\n",
       "Argentina       937\n",
       "France          914\n",
       "Brazil          827\n",
       "Italy           702\n",
       "Colombia        618\n",
       "Japan           478\n",
       "Netherlands     453\n",
       "Name: ID_count, dtype: int64"
      ]
     },
     "execution_count": 3,
     "metadata": {},
     "output_type": "execute_result"
    }
   ],
   "source": [
    "top_10_most_player = df_group.sort_values(by=['ID_count'], ascending=False)['ID_count'][:10]\n",
    "top_10_most_player.head(10)"
   ]
  },
  {
   "cell_type": "code",
   "execution_count": 4,
   "metadata": {
    "scrolled": true
   },
   "outputs": [
    {
     "data": {
      "image/png": "[encoded data removed]",
      "text/plain": [
       "<Figure size 432x288 with 1 Axes>"
      ]
     },
     "metadata": {
      "needs_background": "light"
     },
     "output_type": "display_data"
    }
   ],
   "source": [
    "plt.plot(top_10_most_player)\n",
    "plt.title('Top 10 most players')\n",
    "plt.show()"
   ]
  },
  {
   "cell_type": "code",
   "execution_count": 5,
   "metadata": {},
   "outputs": [
    {
     "data": {
      "text/plain": [
       "Nationality\n",
       "Indonesia             17.000000\n",
       "Botswana              20.000000\n",
       "Rwanda                21.000000\n",
       "Tanzania              22.000000\n",
       "Zambia                22.222222\n",
       "Chad                  22.500000\n",
       "Afghanistan           22.500000\n",
       "Antigua & Barbuda     22.750000\n",
       "Dominican Republic    23.000000\n",
       "Mauritania            23.000000\n",
       "Name: Age_mean, dtype: float64"
      ]
     },
     "execution_count": 5,
     "metadata": {},
     "output_type": "execute_result"
    }
   ],
   "source": [
    "top_10_young_player = df_group.sort_values(by=['Age_mean'], ascending=True)['Age_mean'][:10]\n",
    "top_10_young_player.head(10)"
   ]
  },
  {
   "cell_type": "code",
   "execution_count": 6,
   "metadata": {},
   "outputs": [
    {
     "data": {
      "text/plain": [
       "Nationality\n",
       "Oman                   36.00\n",
       "Puerto Rico            34.00\n",
       "Ethiopia               32.00\n",
       "Trinidad & Tobago      31.75\n",
       "Kuwait                 31.00\n",
       "São Tomé & Príncipe    31.00\n",
       "Palestine              31.00\n",
       "Guam                   30.00\n",
       "New Caledonia          30.00\n",
       "Fiji                   30.00\n",
       "Name: Age_mean, dtype: float64"
      ]
     },
     "execution_count": 6,
     "metadata": {},
     "output_type": "execute_result"
    }
   ],
   "source": [
    "top_10_old_player = df_group.sort_values(by=['Age_mean'], ascending=False)['Age_mean'][:10]\n",
    "top_10_old_player.head(10)"
   ]
  },
  {
   "cell_type": "code",
   "execution_count": 7,
   "metadata": {},
   "outputs": [
    {
     "data": {
      "image/png": "[encoded data removed]",
      "text/plain": [
       "<Figure size 432x288 with 1 Axes>"
      ]
     },
     "metadata": {
      "needs_background": "light"
     },
     "output_type": "display_data"
    },
    {
     "data": {
      "image/png": "[encoded data removed]",
      "text/plain": [
       "<Figure size 432x288 with 1 Axes>"
      ]
     },
     "metadata": {
      "needs_background": "light"
     },
     "output_type": "display_data"
    }
   ],
   "source": [
    "plt.plot(top_10_young_player)\n",
    "plt.title('Top 10 young players')\n",
    "plt.show()\n",
    "\n",
    "plt.plot(top_10_old_player)\n",
    "plt.title('Top 10 old players')\n",
    "plt.show()"
   ]
  },
  {
   "cell_type": "code",
   "execution_count": null,
   "metadata": {},
   "outputs": [],
   "source": []
  }
 ],
 "metadata": {
  "kernelspec": {
   "display_name": "Python 3",
   "language": "python",
   "name": "python3"
  },
  "language_info": {
   "codemirror_mode": {
    "name": "ipython",
    "version": 3
   },
   "file_extension": ".py",
   "mimetype": "text/x-python",
   "name": "python",
   "nbconvert_exporter": "python",
   "pygments_lexer": "ipython3",
   "version": "3.7.0"
  }
 },
 "nbformat": 4,
 "nbformat_minor": 2
}
